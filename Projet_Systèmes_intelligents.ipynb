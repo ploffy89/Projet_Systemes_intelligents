{
  "nbformat": 4,
  "nbformat_minor": 0,
  "metadata": {
    "colab": {
      "name": "Projet_Systèmes_intelligents.ipynb",
      "provenance": [],
      "collapsed_sections": [],
      "include_colab_link": true
    },
    "kernelspec": {
      "name": "python3",
      "display_name": "Python 3"
    },
    "accelerator": "GPU"
  },
  "cells": [
    {
      "cell_type": "markdown",
      "metadata": {
        "id": "view-in-github",
        "colab_type": "text"
      },
      "source": [
        "<a href=\"https://colab.research.google.com/github/ploffy89/Projet_Systemes_intelligents/blob/master/Projet_Syst%C3%A8mes_intelligents.ipynb\" target=\"_parent\"><img src=\"https://colab.research.google.com/assets/colab-badge.svg\" alt=\"Open In Colab\"/></a>"
      ]
    },
    {
      "cell_type": "code",
      "metadata": {
        "id": "FyewNN9DDHYB",
        "colab_type": "code",
        "outputId": "99d94369-4094-4c2d-a7a2-c16d6fb9941c",
        "colab": {
          "base_uri": "https://localhost:8080/",
          "height": 35
        }
      },
      "source": [
        "!pip install tensorboardcolab"
      ],
      "execution_count": 4,
      "outputs": [
        {
          "output_type": "stream",
          "text": [
            "Requirement already satisfied: tensorboardcolab in /usr/local/lib/python3.6/dist-packages (0.0.22)\n"
          ],
          "name": "stdout"
        }
      ]
    },
    {
      "cell_type": "code",
      "metadata": {
        "id": "5J493rtz56_G",
        "colab_type": "code",
        "outputId": "b9478636-b26f-47e1-99e2-8454bb683378",
        "colab": {
          "base_uri": "https://localhost:8080/",
          "height": 1000
        }
      },
      "source": [
        "from __future__ import print_function\n",
        "\n",
        "import keras\n",
        "import math\n",
        "from keras.datasets import fashion_mnist\n",
        "from keras.models import Sequential\n",
        "from keras.layers import Dense, Dropout, Flatten, Activation\n",
        "from keras.layers.normalization import BatchNormalization\n",
        "from keras.layers import Conv2D, MaxPooling2D\n",
        "from keras import backend as K\n",
        "from keras.preprocessing.image import ImageDataGenerator\n",
        "from keras.callbacks import LearningRateScheduler\n",
        "from keras.callbacks import TensorBoard\n",
        "from tensorboardcolab import TensorBoardColab, TensorBoardColabCallback\n",
        "from keras.callbacks import ReduceLROnPlateau\n",
        "from keras.models import load_model\n",
        "\n",
        "\n",
        "tbc=TensorBoardColab()\n",
        "\n",
        "batch_size = 128\n",
        "num_classes = 10\n",
        "epochs = 40\n",
        "\n",
        "datagen = ImageDataGenerator(horizontal_flip=True)\n",
        "\n",
        "#def step_decay(epoch):\n",
        "#\tinitial_lrate = 0.9\n",
        "#\tdrop = 0.5\n",
        "#\tepochs_drop = 10.0\n",
        "#\tlrate = initial_lrate * math.pow(drop, math.floor((1+epoch)/epochs_drop))\n",
        "#\treturn lrate\n",
        "\n",
        "reduce_lr = ReduceLROnPlateau(monitor='val_loss', factor=0.2,\n",
        "                              patience=5, min_lr=0.001)\n",
        "\n",
        "img_rows, img_cols = 28, 28\n",
        "\n",
        "\n",
        "(x_train, y_train), (x_test, y_test) = fashion_mnist.load_data()\n",
        "\n",
        "if K.image_data_format() == 'channels_first':\n",
        "  x_train = x_train.reshape(x_train.shape[0], 1, img_rows, img_cols)\n",
        "  x_test= x_test.reshape(x_test.shape[0], 1, img_rows, img_cols)  \n",
        "  input_shape = (1, img_rows, img_cols)\n",
        "else:\n",
        "  x_train = x_train.reshape(x_train.shape[0], img_rows, img_cols, 1)\n",
        "  x_test= x_test.reshape(x_test.shape[0], img_rows, img_cols, 1)  \n",
        "  input_shape = (img_rows, img_cols, 1)  \n",
        "\n",
        "\n",
        "x_train = x_train.astype('float32')\n",
        "x_test = x_test.astype('float32')\n",
        "x_train /= 255\n",
        "x_test /= 255\n",
        "print(x_train.shape[0],'train samples')\n",
        "print(x_test.shape[0],'test samples')\n",
        "\n",
        "y_train = keras.utils.to_categorical(y_train, num_classes)\n",
        "y_test = keras.utils.to_categorical(y_test, num_classes)\n",
        "\n",
        "#model = Sequential()\n",
        "#model.add(Conv2D(256, kernel_size=(3,3), activation='relu', input_shape=input_shape))\n",
        "#model.add(Conv2D(64, (3, 3), activation='relu'))\n",
        "#model.add(MaxPooling2D(pool_size=(2, 2)))\n",
        "#model.add(Dropout(0.25))\n",
        "\n",
        "#model.add(Conv2D(256, kernel_size=(1,1), activation='relu', input_shape=input_shape))\n",
        "#model.add(Conv2D(32, (3, 3), activation='relu'))\n",
        "#model.add(MaxPooling2D(pool_size=(2, 2)))\n",
        "#model.add(Dropout(0.25))\n",
        "#model.add(Flatten())\n",
        "\n",
        "#model.add(BatchNormalization(epsilon=1e-06, mode=0, momentum=0.9, weights=None))\n",
        "#model.add(Activation('relu'))\n",
        "#model.add(Dense(64, activation='relu'))\n",
        "#model.add(BatchNormalization(epsilon=1e-06, mode=0, momentum=0.9, weights=None))\n",
        "#model.add(Activation('relu'))\n",
        "#model.add(Dense(128, activation='relu'))\n",
        "#model.add(Dropout(0.5))\n",
        "#model.add(Dense(num_classes, activation='softmax'))\n",
        "\n",
        "model = load_model('denseNet.h5')\n",
        "model.load_weights('denseNet_weights.h5')\n",
        "\n",
        "model.compile(loss=keras.losses.categorical_crossentropy,\n",
        "             optimizer=keras.optimizers.Adadelta(),\n",
        "             metrics=['accuracy'])\n",
        "\n",
        "#lrate = LearningRateScheduler(step_decay)\n",
        "callbacks_list = [#lrate,\n",
        "                  reduce_lr,\n",
        "                  TensorBoardColabCallback(tbc)]\n",
        "\n",
        "model.summary()\n",
        "\n",
        "#model.fit(x_train, y_train, batch_size=batch_size, epochs=epochs, verbose=1, validation_data = (x_test, y_test))\n",
        "\n",
        "model.fit_generator(datagen.flow(x_train,y_train, batch_size=batch_size), validation_data = (x_test, y_test), steps_per_epoch=len(x_train)// batch_size,epochs=epochs, shuffle=True,callbacks=callbacks_list)\n",
        "\n",
        "score = model.evaluate(x_test, y_test, verbose = 0)\n",
        "print('Test loss :', score[0])\n",
        "print('Test accuracy :', score[1])\n",
        "\n"
      ],
      "execution_count": 0,
      "outputs": [
        {
          "output_type": "stream",
          "text": [
            "Wait for 8 seconds...\n",
            "TensorBoard link:\n",
            "https://8b1aa7f1.ngrok.io\n",
            "60000 train samples\n",
            "10000 test samples\n",
            "Model: \"sequential_8\"\n",
            "_________________________________________________________________\n",
            "Layer (type)                 Output Shape              Param #   \n",
            "=================================================================\n",
            "conv2d_29 (Conv2D)           (None, 26, 26, 256)       2560      \n",
            "_________________________________________________________________\n",
            "conv2d_30 (Conv2D)           (None, 24, 24, 64)        147520    \n",
            "_________________________________________________________________\n",
            "max_pooling2d_15 (MaxPooling (None, 12, 12, 64)        0         \n",
            "_________________________________________________________________\n",
            "dropout_22 (Dropout)         (None, 12, 12, 64)        0         \n",
            "_________________________________________________________________\n",
            "conv2d_31 (Conv2D)           (None, 12, 12, 256)       16640     \n",
            "_________________________________________________________________\n",
            "conv2d_32 (Conv2D)           (None, 10, 10, 32)        73760     \n",
            "_________________________________________________________________\n",
            "max_pooling2d_16 (MaxPooling (None, 5, 5, 32)          0         \n",
            "_________________________________________________________________\n",
            "dropout_23 (Dropout)         (None, 5, 5, 32)          0         \n",
            "_________________________________________________________________\n",
            "flatten_8 (Flatten)          (None, 800)               0         \n",
            "_________________________________________________________________\n",
            "batch_normalization_15 (Batc (None, 800)               3200      \n",
            "_________________________________________________________________\n",
            "activation_15 (Activation)   (None, 800)               0         \n",
            "_________________________________________________________________\n",
            "dense_22 (Dense)             (None, 64)                51264     \n",
            "_________________________________________________________________\n",
            "batch_normalization_16 (Batc (None, 64)                256       \n",
            "_________________________________________________________________\n",
            "activation_16 (Activation)   (None, 64)                0         \n",
            "_________________________________________________________________\n",
            "dense_23 (Dense)             (None, 128)               8320      \n",
            "_________________________________________________________________\n",
            "dropout_24 (Dropout)         (None, 128)               0         \n",
            "_________________________________________________________________\n",
            "dense_24 (Dense)             (None, 10)                1290      \n",
            "=================================================================\n",
            "Total params: 304,810\n",
            "Trainable params: 303,082\n",
            "Non-trainable params: 1,728\n",
            "_________________________________________________________________\n",
            "Epoch 1/40\n",
            "468/468 [==============================] - 31s 65ms/step - loss: 0.1693 - acc: 0.9396 - val_loss: 0.2333 - val_acc: 0.9271\n",
            "Epoch 2/40\n",
            "468/468 [==============================] - 29s 61ms/step - loss: 0.1738 - acc: 0.9381 - val_loss: 0.2071 - val_acc: 0.9326\n",
            "Epoch 3/40\n",
            "468/468 [==============================] - 29s 61ms/step - loss: 0.1741 - acc: 0.9396 - val_loss: 0.2054 - val_acc: 0.9311\n",
            "Epoch 4/40\n",
            "468/468 [==============================] - 29s 61ms/step - loss: 0.1742 - acc: 0.9386 - val_loss: 0.2105 - val_acc: 0.9282\n",
            "Epoch 5/40\n",
            "468/468 [==============================] - 28s 61ms/step - loss: 0.1720 - acc: 0.9384 - val_loss: 0.2001 - val_acc: 0.9320\n",
            "Epoch 6/40\n",
            "468/468 [==============================] - 28s 61ms/step - loss: 0.1695 - acc: 0.9394 - val_loss: 0.2212 - val_acc: 0.9249\n",
            "Epoch 7/40\n",
            "468/468 [==============================] - 28s 61ms/step - loss: 0.1688 - acc: 0.9393 - val_loss: 0.2545 - val_acc: 0.9257\n",
            "Epoch 8/40\n",
            "468/468 [==============================] - 29s 61ms/step - loss: 0.1673 - acc: 0.9405 - val_loss: 0.2046 - val_acc: 0.9323\n",
            "Epoch 9/40\n",
            "468/468 [==============================] - 28s 61ms/step - loss: 0.1687 - acc: 0.9405 - val_loss: 0.2070 - val_acc: 0.9298\n",
            "Epoch 10/40\n",
            "468/468 [==============================] - 29s 61ms/step - loss: 0.1684 - acc: 0.9399 - val_loss: 0.2127 - val_acc: 0.9326\n",
            "Epoch 11/40\n",
            "468/468 [==============================] - 29s 61ms/step - loss: 0.1535 - acc: 0.9464 - val_loss: 0.2028 - val_acc: 0.9347\n",
            "Epoch 12/40\n",
            "468/468 [==============================] - 28s 61ms/step - loss: 0.1518 - acc: 0.9459 - val_loss: 0.1994 - val_acc: 0.9342\n",
            "Epoch 13/40\n",
            "468/468 [==============================] - 29s 61ms/step - loss: 0.1470 - acc: 0.9468 - val_loss: 0.1916 - val_acc: 0.9359\n",
            "Epoch 14/40\n",
            "468/468 [==============================] - 29s 61ms/step - loss: 0.1470 - acc: 0.9468 - val_loss: 0.1951 - val_acc: 0.9332\n",
            "Epoch 15/40\n",
            "468/468 [==============================] - 28s 61ms/step - loss: 0.1463 - acc: 0.9474 - val_loss: 0.1947 - val_acc: 0.9345\n",
            "Epoch 16/40\n",
            "468/468 [==============================] - 29s 61ms/step - loss: 0.1505 - acc: 0.9471 - val_loss: 0.1966 - val_acc: 0.9343\n",
            "Epoch 17/40\n",
            "468/468 [==============================] - 29s 61ms/step - loss: 0.1425 - acc: 0.9489 - val_loss: 0.1935 - val_acc: 0.9351\n",
            "Epoch 18/40\n",
            "468/468 [==============================] - 29s 61ms/step - loss: 0.1454 - acc: 0.9482 - val_loss: 0.1966 - val_acc: 0.9354\n",
            "Epoch 19/40\n",
            "468/468 [==============================] - 28s 61ms/step - loss: 0.1450 - acc: 0.9477 - val_loss: 0.1982 - val_acc: 0.9340\n",
            "Epoch 20/40\n",
            "468/468 [==============================] - 29s 61ms/step - loss: 0.1421 - acc: 0.9494 - val_loss: 0.1949 - val_acc: 0.9345\n",
            "Epoch 21/40\n",
            "468/468 [==============================] - 29s 61ms/step - loss: 0.1422 - acc: 0.9498 - val_loss: 0.1950 - val_acc: 0.9354\n",
            "Epoch 22/40\n",
            "468/468 [==============================] - 29s 61ms/step - loss: 0.1406 - acc: 0.9490 - val_loss: 0.1930 - val_acc: 0.9364\n",
            "Epoch 23/40\n",
            "468/468 [==============================] - 28s 61ms/step - loss: 0.1402 - acc: 0.9501 - val_loss: 0.1899 - val_acc: 0.9363\n",
            "Epoch 24/40\n",
            "468/468 [==============================] - 29s 61ms/step - loss: 0.1407 - acc: 0.9498 - val_loss: 0.1949 - val_acc: 0.9363\n",
            "Epoch 25/40\n",
            "336/468 [====================>.........] - ETA: 7s - loss: 0.1419 - acc: 0.9486"
          ],
          "name": "stdout"
        }
      ]
    },
    {
      "cell_type": "markdown",
      "metadata": {
        "id": "UjH4mi5OLYqW",
        "colab_type": "text"
      },
      "source": [
        "# Save"
      ]
    },
    {
      "cell_type": "code",
      "metadata": {
        "id": "7YRchAHcLa5M",
        "colab_type": "code",
        "colab": {}
      },
      "source": [
        "model.save('denseNet.h5')\n",
        "model.save_weights('denseNet_weights.h5')\n",
        "#new_model.summary()\n",
        "#new_model.get_weights()\n",
        "#new_model.optimizer"
      ],
      "execution_count": 0,
      "outputs": []
    },
    {
      "cell_type": "markdown",
      "metadata": {
        "id": "j2f-r4enMOqb",
        "colab_type": "text"
      },
      "source": [
        "# To JSON"
      ]
    },
    {
      "cell_type": "code",
      "metadata": {
        "id": "Iw8KuAg3MOSy",
        "colab_type": "code",
        "colab": {}
      },
      "source": [
        "json_string = model.to_json()\n",
        "from keras.models import model_from_json\n",
        "model_architecture = model_from_json(json_string)\n",
        "model_architecture.summary()"
      ],
      "execution_count": 0,
      "outputs": []
    }
  ]
}